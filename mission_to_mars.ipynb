{
 "cells": [
  {
   "cell_type": "code",
   "execution_count": null,
   "metadata": {},
   "outputs": [],
   "source": [
    "# Dependencies\n",
    "import pymongo\n",
    "import datetime\n",
    "import pandas as pd\n",
    "from bs4 import BeautifulSoup\n",
    "import requests\n",
    "import os"
   ]
  },
  {
   "cell_type": "code",
   "execution_count": null,
   "metadata": {},
   "outputs": [],
   "source": [
    "#NASA Mars News\n",
    "news_title= \"MOXIE Could Help Future Rockets Launch Off Mars\"\n",
    "\n",
    "news_p = 'One of the hardest things about sending astronauts to Mars will be getting them home. Launching a rocket off the surface of the Red Planet will require industrial quantities of oxygen, a crucial part of propellant: A crew of four would need about 55,000 pounds (25 metric tons) of it to produce thrust from 15,000 pounds (7 metric tons) of rocket fuel. That's a lot of propellant. But instead of shipping all that oxygen, what if the crew could make it out of thin (Martian) air? A first-generation oxygen generator aboard NASA's Perseverance rover will test technology for doing exactly that. The Mars Oxygen In-Situ Resource Utilization Experiment, or MOXIE, is an experimental instrument that stands apart from Perseverance's primary science. One of the rover's main purposes is capturing returnable rock samples that could carry signs of ancient microbial life. While Perseverance has a suite of instruments geared toward helping achieve that goal, MOXIE is focused solely on the engineering required for future human exploration efforts. Since the dawn of the space age, researchers have talked about in-situ resource utilization, or ISRU. Think of it as living off the land and using what's available in the local environment. That includes things like finding water ice that could be melted for use or sheltering in caves, but also generating oxygen for rocket fuel and, of course, breathing. Breathing is just a side benefit of MOXIE's true goal, said Michael Hecht of the Massachusetts Institute of Technology, the instrument's principal investigator. Rocket propellant is the heaviest consumable resource that astronauts will need, so being able to produce oxygen at their destination would make the first crewed trip to Mars easier, safer, and cheaper. \"What people typically ask me is whether MOXIE is being developed so astronauts have something to breathe,\"Hecht said. \"But rockets breathe hundreds of times as much oxygen as people.\"'\n",
    "\n",
    "\n",
    "#JPL Mars Space Images - Featured Image\n",
    "featured_image_url = 'https://www.jpl.nasa.gov/images/mars2020/20201124/C1-MOXIE-PIA24176.gif'\n",
    "\n",
    "\n",
    "#Mars Weather\n",
    "mars_weather = 'InSight sol 708 (2020-11-22) low -93.2ºC (-135.8ºF) high -8.2ºC (17.2ºF) winds from the W at 6.0 m/s (13.4 mph) gusting to 20.2 m/s (45.2 mph) pressure at 7.40 hPa'"
   ]
  },
  {
   "cell_type": "code",
   "execution_count": null,
   "metadata": {},
   "outputs": [],
   "source": [
    "#Mars Facts\n",
    "#Use Pandas to convert the data to a HTML table string.\n",
    "marsurl = 'https://space-facts.com/mars/'\n",
    "table = pd.read_html(marsurl)\n",
    "table"
   ]
  },
  {
   "cell_type": "code",
   "execution_count": null,
   "metadata": {},
   "outputs": [],
   "source": [
    "type(table)"
   ]
  },
  {
   "cell_type": "code",
   "execution_count": null,
   "metadata": {},
   "outputs": [],
   "source": [
    "#creating a pandas DataFrame from the values that the system was able to identify from th webpage\n",
    "marsdf = table[0]\n",
    "marsdf.columns = ['Fact', 'Value']\n",
    "marsdf.head(9)"
   ]
  },
  {
   "cell_type": "code",
   "execution_count": null,
   "metadata": {},
   "outputs": [],
   "source": [
    "#generate HTML table from my pandas DataFrame\n",
    "html_table = marsdf.to_html()\n",
    "html_table"
   ]
  },
  {
   "cell_type": "code",
   "execution_count": null,
   "metadata": {},
   "outputs": [],
   "source": [
    "# stripping unwanted newlines\n",
    "html_table.replace('\\n', '')"
   ]
  },
  {
   "cell_type": "code",
   "execution_count": null,
   "metadata": {},
   "outputs": [],
   "source": [
    "#save my Mars data Frame to and html table\n",
    "marsdf.to_html('marstable.html')"
   ]
  },
  {
   "cell_type": "code",
   "execution_count": null,
   "metadata": {},
   "outputs": [],
   "source": [
    "#Mars Hemispheres\n",
    "hemisphere_image_urls = [\n",
    "    {\"title\": \"Cerberus Hemisphere\", \"img_url\": \"https://astropedia.astrogeology.usgs.gov/download/Mars/Viking/cerberus_enhanced.tif/full.jpg\"},\n",
    "    {\"title\": \"Schiaparelli Hemisphere\", \"img_url\": \"https://astropedia.astrogeology.usgs.gov/download/Mars/Viking/schiaparelli_enhanced.tif/full.jpg\"},\n",
    "    {\"title\": \"Syrtis Major Hemisphere\", \"img_url\": \"https://astropedia.astrogeology.usgs.gov/download/Mars/Viking/syrtis_major_enhanced.tif/full.jpg\"},\n",
    "    {\"title\": \"Valles Marineris Hemisphere\", \"img_url\": \"https://astropedia.astrogeology.usgs.gov/download/Mars/Viking/valles_marineris_enhanced.tif/full.jpg\"},\n",
    "]\n"
   ]
  },
  {
   "cell_type": "code",
   "execution_count": null,
   "metadata": {},
   "outputs": [],
   "source": []
  }
 ],
 "metadata": {
  "kernelspec": {
   "display_name": "Python 3",
   "language": "python",
   "name": "python3"
  },
  "language_info": {
   "codemirror_mode": {
    "name": "ipython",
    "version": 3
   },
   "file_extension": ".py",
   "mimetype": "text/x-python",
   "name": "python",
   "nbconvert_exporter": "python",
   "pygments_lexer": "ipython3",
   "version": "3.8.3"
  }
 },
 "nbformat": 4,
 "nbformat_minor": 4
}
